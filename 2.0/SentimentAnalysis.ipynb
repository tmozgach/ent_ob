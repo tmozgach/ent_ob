{
 "cells": [
  {
   "cell_type": "code",
   "execution_count": 23,
   "metadata": {},
   "outputs": [
    {
     "name": "stdout",
     "output_type": "stream",
     "text": [
      "[nltk_data] Downloading package stopwords to\n",
      "[nltk_data]     /home/tatyana/nltk_data...\n",
      "[nltk_data]   Package stopwords is already up-to-date!\n",
      "[nltk_data] Downloading package wordnet to /home/tatyana/nltk_data...\n",
      "[nltk_data]   Package wordnet is already up-to-date!\n"
     ]
    }
   ],
   "source": [
    "import math\n",
    "import pandas as pd\n",
    "import numpy as np\n",
    "import nltk\n",
    "import nltk\n",
    "nltk.download('stopwords')\n",
    "nltk.download('wordnet')\n",
    "from nltk.corpus import stopwords\n",
    "\n",
    "from nltk.stem.wordnet import WordNetLemmatizer\n",
    "from gensim.models.ldamodel import LdaModel as Lda\n",
    "from gensim import corpora\n",
    "import string\n",
    "import os\n",
    "import codecs\n",
    "import pandas as pd\n",
    "import pyLDAvis.gensim\n",
    "from operator import itemgetter\n",
    "\n",
    "import textblob\n",
    "from textblob import TextBlob\n",
    "\n",
    "import sys\n",
    "\n",
    "from nltk.sentiment.vader import SentimentIntensityAnalyzer as SIA"
   ]
  },
  {
   "cell_type": "code",
   "execution_count": 24,
   "metadata": {
    "collapsed": true
   },
   "outputs": [],
   "source": [
    "#For plotting\n",
    "import matplotlib.pyplot as plt\n",
    "import seaborn as sns\n",
    "sns.set(style='darkgrid', context='talk', palette='Dark2')\n"
   ]
  },
  {
   "cell_type": "code",
   "execution_count": null,
   "metadata": {
    "collapsed": true
   },
   "outputs": [],
   "source": [
    "sia = SIA()\n",
    "results = []\n",
    "\n",
    "rawPostall = pd.read_csv(\"Bodies2.0.csv\", names = ['text'])\n",
    "\n",
    "rawPost = pd.DataFrame()\n",
    "rawPost['text'] = rawPostall['text']\n"
   ]
  },
  {
   "cell_type": "code",
   "execution_count": null,
   "metadata": {
    "collapsed": true,
    "scrolled": true
   },
   "outputs": [],
   "source": [
    "for line in rawPost['text']:\n",
    "    pol_score = sia.polarity_scores(line)\n",
    "    pol_score['Text'] = line\n",
    "    results.append(pol_score)\n"
   ]
  },
  {
   "cell_type": "code",
   "execution_count": null,
   "metadata": {},
   "outputs": [],
   "source": [
    "df = pd.DataFrame.from_records(results)\n",
    "# The number of words\n",
    "df['Words count'] = df['Text'].apply(lambda x: len(str(x).split(\" \")))\n",
    "df.head()"
   ]
  },
  {
   "cell_type": "markdown",
   "metadata": {},
   "source": [
    "Dataframe consists of four columns from the sentiment scoring: Neu, Neg, Pos and compound. The first three represent the sentiment score percentage of each category in titles, and the compound single number that scores the sentiment. `compound` ranges from -1 (Extremely Negative) to 1 (Extremely Positive).\n",
    "\n",
    "I will consider posts with a compound value greater than 0.2 as positive and less than -0.2 as negative. There's some testing and experimentation that goes with choosing these ranges, and there is a trade-off to be made here. If you choose a higher value, you might get more compact results (less false positives and false negatives), but the size of the results will decrease significantly.\n",
    "\n",
    "I created a positive label of 1 if the compound is greater than 0.2, and a label of -1 if compound is less than -0.2. Everything else will be 0."
   ]
  },
  {
   "cell_type": "code",
   "execution_count": null,
   "metadata": {},
   "outputs": [],
   "source": [
    "df['Positive(1) or Negative(-1)'] = 0\n",
    "df.loc[df['compound'] > 0.2, 'Positive(1) or Negative(-1)'] = 1\n",
    "df.loc[df['compound'] < -0.2, 'Positive(1) or Negative(-1)'] = -1\n",
    "df.head()"
   ]
  },
  {
   "cell_type": "code",
   "execution_count": null,
   "metadata": {},
   "outputs": [],
   "source": [
    "df.to_csv(\"SentimentBodies.csv\",index=False)"
   ]
  },
  {
   "cell_type": "code",
   "execution_count": 57,
   "metadata": {},
   "outputs": [
    {
     "name": "stdout",
     "output_type": "stream",
     "text": [
      "Positive titles (30 items):\n",
      "\n",
      "['Best Websites to List a Business for Sale', 'Amazon sellers, what are Amazon fees when selling through them?', '5 steps to maximizing your odds of startup success', 'I need your recommendations... Pls help!', 'Does anyone have any experience with creating Udemy courses? Looking for advice', 'What is the best way to sell my local interest e-book?', 'My site is most likely going to be featured on a local news segment. How can I capitalize on this opportunity?', 'Useful tool to Marketers/ Developers/ Solopreneurs to make sure that the websites/ landing pages we share look good on social platforms.', 'My friend had some stickers made for our snowboards. Everyone on the mountain loves them and asks where to buy one...Best way to proceed?', 'Just got my GED! What’s the best job I can get for now, so I can move out and get on my own?', 'Best book about business model profitability assessment?', \"What has been the most effective and/or creative way you've gotten customers?\", 'Got a connect in the jewelry biz, how can I profit off that?', 'What is the dealing with using free photos found on the web in online promotions?', 'Just a word of encouragement - went from zero to over a million', 'YouTube income is starting to become non-insignificant. Would like life advice and thoughts on how to push my skills and grow.', 'My 2 failures thus far (learn and laugh at me a bit!)', 'Would anyone be interested in a new sub strictly for small business owners and people who are trying to start a small business.', 'How to profit ethically from business matchmaking', 'About to start my first business, should I be a freelancer or an LLC?', 'Interesting winery idea and looking for feedback(Canada)', 'Hello Reddit. I recently created a social media aggregator that merges Twitter, Instagram, Reddit, YouTube and Tumblr into one feed. More services are coming soon. Let me know what you think!', 'How effective could the training developed by employees be?', 'Best BOoks to Learn Business terms?', 'How to value a brick and mortar business?', 'Political website?Is it worth it?', 'Posts to keep: your nominations for the best /r/Entrepreneur posts of 2017', 'Advice and help on start up', \"Who wants an angular web app developed for FREE? Let's chat!\", 'Creating an e-course... Need some help']\n"
     ]
    }
   ],
   "source": [
    "print(\"Positive text (30 items):\\n\")\n",
    "print(list(df[df['label'] == 1].Text)[:30])"
   ]
  },
  {
   "cell_type": "code",
   "execution_count": 58,
   "metadata": {},
   "outputs": [
    {
     "name": "stdout",
     "output_type": "stream",
     "text": [
      "\n",
      "Negative Titles:\n",
      "\n",
      "['Anyone doing Digital Marketing here? Want a no BS answer to some questions.', 'Why Drop Shipping and POD are doomed and what I’m doing about it.', 'I Feel Lost as an Entrepreneur', \"I'm a part-time web designer making $1k a month from SEO. I want to grow but not sure it's in web design.\", 'A short rant on Shopify Blog analytics (and its dashboard overall)', 'How Can I Own A Valid & Legal Paypal Account From Paypal Unsupported country?', 'Need some tips to solve the first big problem of this new project.', 'Why you will fail browsing this sub for the wrong reasons', 'Is this idea funny or terrible? Well I already made a website.. get your shit together box', 'I am in need of low cost influencer marketing tools.', 'How I struggled, failed, then learned how to code and now finally launch', '3 things I learnt from my failed restaurant+ advice needed on where to go next', 'What happens if I spend all this money and I get very little to no sales?', '\"Not a total scam\" checklist for buying a website', 'I built an Alexa skill to help people with depression.', 'I want to reduce Extreme Poverty within Indigenous Communities through a Social Enterprise. What do you think?', 'What does the Entrepreneur community thinks about FIRE?', '2 sales Etsy shop, finally doing something guy here. Holy crap did something happen this weekend.', \"What's so bad about shopify?\", 'Is this a scam?', 'Discord server for chill business people', 'Low cost mobile invoicing for field reps?', 'Wanna-preneur: Sound or Short-sighted Approach?', 'Is it a bad thing to run multiple websites?', 'Competitor posting bad reviews...', 'Who here dislikes TRAVEL? I need advice on my travel coach business plan.', 'I am 19 and want to run a side business of pressure washing houses, trailers, etc in the summer...', 'Dropshipping: Supplier has a retail presence. Is it doomed to fail?', 'Should I drop out of college?', 'Soft Launch - Much Fear - Please critique.']\n"
     ]
    }
   ],
   "source": [
    "print(\"\\nNegative Text:\\n\")\n",
    "print(list(df[df['label'] == -1].Text)[:30])"
   ]
  },
  {
   "cell_type": "code",
   "execution_count": 30,
   "metadata": {},
   "outputs": [
    {
     "name": "stdout",
     "output_type": "stream",
     "text": [
      "Raw value counts:\n",
      " 0    44130\n",
      " 1    27511\n",
      "-1     6066\n",
      "Name: label, dtype: int64\n",
      "\n",
      "Percentages (%):\n",
      " 0    56.790251\n",
      " 1    35.403503\n",
      "-1     7.806247\n",
      "Name: label, dtype: float64\n"
     ]
    }
   ],
   "source": [
    "# how many total positives and negatives we have in this dataset:\n",
    "# The first line gives us raw value counts of the labels, \n",
    "# whereas the second line provides percentages with the normalize keyword.\n",
    "print(\"Raw value counts:\")\n",
    "print(df.label.value_counts())\n",
    "print(\"\")\n",
    "print(\"Percentages (%):\")\n",
    "print(df.label.value_counts(normalize=True) * 100)"
   ]
  },
  {
   "cell_type": "code",
   "execution_count": 31,
   "metadata": {},
   "outputs": [
    {
     "name": "stderr",
     "output_type": "stream",
     "text": [
      "/home/tatyana/anaconda3/lib/python3.6/site-packages/seaborn/categorical.py:342: DeprecationWarning: pandas.core.common.is_categorical_dtype is deprecated. import from the public API: pandas.api.types.is_categorical_dtype instead\n",
      "  elif is_categorical(y):\n"
     ]
    },
    {
     "data": {
      "image/png": "[encoded data removed]",
      "text/plain": [
       "<matplotlib.figure.Figure at 0x7f9e00867048>"
      ]
     },
     "metadata": {},
     "output_type": "display_data"
    }
   ],
   "source": [
    "#Plot a bar char\n",
    "fig, ax = plt.subplots(figsize=(8, 8))\n",
    "\n",
    "counts = df.label.value_counts(normalize=True) * 100\n",
    "\n",
    "sns.barplot(x=counts.index, y=counts, ax=ax)\n",
    "\n",
    "ax.set_xticklabels(['Negative', 'Neutral', 'Positive'])\n",
    "ax.set_ylabel(\"Percentage\")\n",
    "\n",
    "plt.show()"
   ]
  },
  {
   "cell_type": "markdown",
   "metadata": {},
   "source": [
    "The large number of neutral titles is due to 3 main reasons:\n",
    "    The length of the titles is not enough to understand the sentiment.\n",
    "    The assumption that I made earlier where titles with compound value between 0.2 and -0.2 are considered neutral. The higher the margin, the larger the number of neutral titles.\n",
    "    I used general lexicon to categorize business titles. The more correct way is to use a business-specific lexicon, but for that we would either need a human to manually label data, or we would need to find a custom lexicon already made."
   ]
  }
 ],
 "metadata": {
  "kernelspec": {
   "display_name": "Python 3",
   "language": "python",
   "name": "python3"
  },
  "language_info": {
   "codemirror_mode": {
    "name": "ipython",
    "version": 3
   },
   "file_extension": ".py",
   "mimetype": "text/x-python",
   "name": "python",
   "nbconvert_exporter": "python",
   "pygments_lexer": "ipython3",
   "version": "3.6.3"
  }
 },
 "nbformat": 4,
 "nbformat_minor": 2
}
